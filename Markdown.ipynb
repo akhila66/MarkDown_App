{
 "cells": [
  {
   "cell_type": "code",
   "execution_count": 1,
   "id": "d7b2f244",
   "metadata": {},
   "outputs": [],
   "source": [
    "import re\n",
    "from IPython.core.display import display, HTML\n"
   ]
  },
  {
   "cell_type": "code",
   "execution_count": 2,
   "id": "1f930dfa",
   "metadata": {},
   "outputs": [],
   "source": [
    "def convert(source):\n",
    "    \"\"\"\n",
    "    Input: Markdown string\n",
    "    Output: HTML formated string\n",
    "    \n",
    "    Funtion Operation: Converts few simple markdown string to html format\n",
    "    ---------------------------------------------------------------------\n",
    "    check for each line\n",
    "        if its not new line and has some text performs below modifications\n",
    "            - check and convert [.*](.*) to hyperlink tag format\n",
    "            - check header levels from '#' and convert to respective tags\n",
    "                - if not header convert to paragraph tag (Assuming all rest of them gonna be in <p> tag)\n",
    "    join all and return with new lines\n",
    "    \n",
    "    \"\"\"\n",
    "    lines = source.split('\\n')\n",
    "    modified = []\n",
    "    for s in lines:\n",
    "        if s:\n",
    "            # repalce links\n",
    "            for i in re.finditer('\\[(.*)\\]\\((.*)\\)', s):\n",
    "                s = s.replace(i.group(0), '<a href=\"'+(i.group(2))+'\">'+(i.group(1))+'</a>')\n",
    "                \n",
    "            # replace headers only \n",
    "            header = re.match('(^[#]+)(.*)', s)\n",
    "            if(header):\n",
    "                length = str(len(header.group(1)))\n",
    "                s = s.replace(header.group(0), \"<h\"+length+\">\"+header.group(2)+\"</h\"+length+\">\")\n",
    "            else:\n",
    "                s = \"<p>\"+s+\"</p>\"\n",
    "\n",
    "        modified.append(s)\n",
    "\n",
    "    source = '\\n'.join(modified)\n",
    "    return source"
   ]
  },
  {
   "cell_type": "code",
   "execution_count": 3,
   "id": "c8403256",
   "metadata": {},
   "outputs": [
    {
     "name": "stdout",
     "output_type": "stream",
     "text": [
      "<h1> Sample Document</h1>\n",
      "\n",
      "<p>Hello!</p>\n",
      "\n",
      "<p>This is sample markdown for the <a href=\"https://www.mailchimp.com\">Mailchimp</a> homework assignment.</p>\n"
     ]
    },
    {
     "data": {
      "text/html": [
       "<h1> Sample Document</h1>\n",
       "\n",
       "<p>Hello!</p>\n",
       "\n",
       "<p>This is sample markdown for the <a href=\"https://www.mailchimp.com\">Mailchimp</a> homework assignment.</p>"
      ],
      "text/plain": [
       "<IPython.core.display.HTML object>"
      ]
     },
     "metadata": {},
     "output_type": "display_data"
    }
   ],
   "source": [
    "# Example: 1\n",
    "source = \"\"\"# Sample Document\n",
    "\n",
    "Hello!\n",
    "\n",
    "This is sample markdown for the [Mailchimp](https://www.mailchimp.com) homework assignment.\"\"\"\n",
    "print(convert(source))\n",
    "display(HTML(convert(source)))"
   ]
  },
  {
   "cell_type": "code",
   "execution_count": 4,
   "id": "68f9921d",
   "metadata": {},
   "outputs": [
    {
     "name": "stdout",
     "output_type": "stream",
     "text": [
      "<h1> Header one</h1>\n",
      "\n",
      "<p>Hello there</p>\n",
      "\n",
      "<p>How are you?</p>\n",
      "<p>What's going on?</p>\n",
      "\n",
      "<h2> Another Header</h2>\n",
      "\n",
      "<p>This is a paragraph <a href=\"http://google.com\">with an inline link</a>. Neat, eh?</p>\n",
      "\n",
      "<h2> This is a header <a href=\"http://yahoo.com\">with a link</a></h2>\n"
     ]
    },
    {
     "data": {
      "text/html": [
       "<h1> Header one</h1>\n",
       "\n",
       "<p>Hello there</p>\n",
       "\n",
       "<p>How are you?</p>\n",
       "<p>What's going on?</p>\n",
       "\n",
       "<h2> Another Header</h2>\n",
       "\n",
       "<p>This is a paragraph <a href=\"http://google.com\">with an inline link</a>. Neat, eh?</p>\n",
       "\n",
       "<h2> This is a header <a href=\"http://yahoo.com\">with a link</a></h2>"
      ],
      "text/plain": [
       "<IPython.core.display.HTML object>"
      ]
     },
     "metadata": {},
     "output_type": "display_data"
    }
   ],
   "source": [
    "# Example: 2\n",
    "source = \"\"\"# Header one\n",
    "\n",
    "Hello there\n",
    "\n",
    "How are you?\n",
    "What's going on?\n",
    "\n",
    "## Another Header\n",
    "\n",
    "This is a paragraph [with an inline link](http://google.com). Neat, eh?\n",
    "\n",
    "## This is a header [with a link](http://yahoo.com)\"\"\"\n",
    "print(convert(source))\n",
    "display(HTML(convert(source)))"
   ]
  },
  {
   "cell_type": "code",
   "execution_count": null,
   "id": "9ab74d36",
   "metadata": {},
   "outputs": [],
   "source": []
  }
 ],
 "metadata": {
  "kernelspec": {
   "display_name": "Python 3",
   "language": "python",
   "name": "python3"
  },
  "language_info": {
   "codemirror_mode": {
    "name": "ipython",
    "version": 3
   },
   "file_extension": ".py",
   "mimetype": "text/x-python",
   "name": "python",
   "nbconvert_exporter": "python",
   "pygments_lexer": "ipython3",
   "version": "3.9.4"
  }
 },
 "nbformat": 4,
 "nbformat_minor": 5
}
